{
 "cells": [
  {
   "cell_type": "code",
   "execution_count": 20,
   "metadata": {},
   "outputs": [
    {
     "name": "stdout",
     "output_type": "stream",
     "text": [
      "Requirement already satisfied: requests in c:\\users\\a0102\\anaconda3\\lib\\site-packages (2.22.0)\n",
      "Requirement already satisfied: idna<2.9,>=2.5 in c:\\users\\a0102\\anaconda3\\lib\\site-packages (from requests) (2.8)\n",
      "Requirement already satisfied: certifi>=2017.4.17 in c:\\users\\a0102\\anaconda3\\lib\\site-packages (from requests) (2019.11.28)\n",
      "Requirement already satisfied: urllib3!=1.25.0,!=1.25.1,<1.26,>=1.21.1 in c:\\users\\a0102\\anaconda3\\lib\\site-packages (from requests) (1.25.8)\n",
      "Requirement already satisfied: chardet<3.1.0,>=3.0.2 in c:\\users\\a0102\\anaconda3\\lib\\site-packages (from requests) (3.0.4)\n",
      "Note: you may need to restart the kernel to use updated packages.\n"
     ]
    }
   ],
   "source": [
    "pip install requests"
   ]
  },
  {
   "cell_type": "code",
   "execution_count": 21,
   "metadata": {},
   "outputs": [],
   "source": [
    "import requests\n",
    "from bs4 import BeautifulSoup\n",
    "from openpyxl import Workbook\n"
   ]
  },
  {
   "cell_type": "code",
   "execution_count": 22,
   "metadata": {},
   "outputs": [],
   "source": [
    "thesis_dataset=Workbook()\n",
    "thesis_s = thesis_dataset.active\n",
    "thesis_s.append(['index', 'sub_seq', 'conference', 'year', 'title', 'author', 'abs'])\n"
   ]
  },
  {
   "cell_type": "code",
   "execution_count": 61,
   "metadata": {},
   "outputs": [],
   "source": [
    "def add_aut(url):\n",
    "    response = requests.get(url)\n",
    "    soup = BeautifulSoup(response.content, \"html.parser\")\n",
    "\n",
    "    aut = []\n",
    "    temp = []\n",
    "\n",
    "    div_1 = soup.select('#main > div')\n",
    "    p = ''\n",
    "    leng = len(div_1)\n",
    "    leng2 = 0\n",
    "\n",
    "    for i in range(leng):\n",
    "        if (i == 0):\n",
    "            continue\n",
    "        p = div_1[i].select(\".d-block\")\n",
    "        leng2 = len(p)\n",
    "        for j in range(leng2):\n",
    "            if (j == 0 or j == 1 or j == 2):\n",
    "                continue\n",
    "            for k in p[j].select(\".d-block > a\"):\n",
    "                tmp = k.get_text()\n",
    "                if (tmp == 'pdf\\n' or tmp == 'bib\\n' or tmp == 'abs' or tmp == '' or tmp == 'bib'):\n",
    "                    continue\n",
    "                temp.append(tmp)\n",
    "            if (len(temp) != 0):\n",
    "                aut.append(temp)\n",
    "            temp = []\n",
    "\n",
    "    #     print(len(aut))\n",
    "\n",
    "    inputString = ''\n",
    "\n",
    "    for i in range(len(aut)):\n",
    "        inputString = ','.join(aut[i])\n",
    "        thesis_s.cell(i + 7320, 6, inputString)\n",
    "        inputString = ''\n",
    "    thesis_dataset.save('C:/Users/a0102/Desktop/thesis_dataset.xlsx')\n",
    "\n",
    "    print(\"author length : \", len(aut))"
   ]
  },
  {
   "cell_type": "code",
   "execution_count": 62,
   "metadata": {
    "scrolled": false
   },
   "outputs": [],
   "source": [
    "def crawler(url):\n",
    "    response = requests.get(url)\n",
    "    soup = BeautifulSoup(response.content, \"html.parser\")\n",
    "\n",
    "    my_titles = soup.select(\n",
    "        'p>span:nth-child(2)>strong>a'\n",
    "    )\n",
    "\n",
    "    tit = []\n",
    "    for title in my_titles:\n",
    "        tit.append(title.text)\n",
    "    # print('tit',tit)\n",
    "\n",
    "    abs = []\n",
    "    abstracts = soup.findAll(\"div\", {'class': 'card-body p-3 small'})\n",
    "    for abstract in abstracts:\n",
    "        abs.append(abstract.text)\n",
    "    # print('abs',abs)\n",
    "\n",
    "\n",
    "    print(\"title length : \", len(tit))\n",
    "    # print(\"author length : \", len(aut))\n",
    "    print(\"abstraction length : \", len(abs))\n",
    "\n",
    "    s = []\n",
    "    num = len(tit) - len(abs)\n",
    "    ii = 0\n",
    "\n",
    "    while True:\n",
    "        try:\n",
    "            s.append(soup.select('.card-body .list-pl-responsive li .align-middle')[ii].get_text())\n",
    "            ii += 1\n",
    "        except:\n",
    "            break\n",
    "\n",
    "    num = len(s)\n",
    "\n",
    "    new_s = []\n",
    "    for i in range(num):\n",
    "        if i % 2 == 0:\n",
    "            new_s.append(s[i])\n",
    "\n",
    "    # for i in range(num):\n",
    "    #    s.append(soup.select('.card-body .align-middle')[2*i].get_text())\n",
    "\n",
    "    for t in tit:\n",
    "        if t == 'Proceedings of the 18th BioNLP Workshop and Shared Task':\n",
    "            tit.remove(t)\n",
    "    # acl-2019가 위 항목을 아래의 for문 속 if t==ss에서 못 걸러내므로 따로 remove 해줌\n",
    "\n",
    "    for t in tit:\n",
    "        for ss in new_s:\n",
    "            if t == ss:\n",
    "                tit.remove(t)\n",
    "\n",
    "    for i in range(len(abs)):\n",
    "        thesis_s.cell(i + 7320, 3, 'eacl')\n",
    "        # 7319부터 시작\n",
    "    thesis_dataset.save('C:/Users/a0102/Desktop/thesis_dataset.xlsx')\n",
    "\n",
    "    for i in range(len(abs)):\n",
    "        thesis_s.cell(i + 7320, 4, 2017)\n",
    "    thesis_dataset.save('C:/Users/a0102/Desktop/thesis_dataset.xlsx')\n",
    "\n",
    "    for i in range(len(abs)):\n",
    "        thesis_s.cell(i + 7320, 5, tit[i])\n",
    "    thesis_dataset.save('C:/Users/a0102/Desktop/thesis_dataset.xlsx')\n",
    "\n",
    "    for i in range(len(abs)):\n",
    "        thesis_s.cell(i + 7320, 7, abs[i])\n",
    "    thesis_dataset.save('C:/Users/a0102/Desktop/thesis_dataset.xlsx')\n",
    "\n",
    "    add_aut(url)\n",
    "\n",
    "    print(\"title length : \", len(tit))\n",
    "    # print(\"author length : \", len(aut))\n",
    "    print(\"abstraction length : \", len(abs))"
   ]
  },
  {
   "cell_type": "markdown",
   "metadata": {},
   "source": [
    "acl 2020,2018,2019"
   ]
  },
  {
   "cell_type": "code",
   "execution_count": 27,
   "metadata": {
    "scrolled": true
   },
   "outputs": [
    {
     "name": "stdout",
     "output_type": "stream",
     "text": [
      "title length :  1235\n",
      "abstraction length :  1213\n",
      "author length :  1213\n",
      "title length :  1213\n",
      "abstraction length :  1213\n"
     ]
    }
   ],
   "source": [
    "crawler(\"https://www.aclweb.org/anthology/events/acl-2020/\")"
   ]
  },
  {
   "cell_type": "code",
   "execution_count": 30,
   "metadata": {},
   "outputs": [
    {
     "name": "stdout",
     "output_type": "stream",
     "text": [
      "title length :  1449\n",
      "abstraction length :  1422\n",
      "author length :  1422\n",
      "title length :  1422\n",
      "abstraction length :  1422\n"
     ]
    }
   ],
   "source": [
    "crawler(\"https://www.aclweb.org/anthology/events/acl-2019/\")"
   ]
  },
  {
   "cell_type": "code",
   "execution_count": 33,
   "metadata": {
    "scrolled": true
   },
   "outputs": [
    {
     "name": "stdout",
     "output_type": "stream",
     "text": [
      "title length :  674\n",
      "abstraction length :  654\n",
      "author length :  654\n",
      "title length :  654\n",
      "abstraction length :  654\n"
     ]
    }
   ],
   "source": [
    "crawler(\"https://www.aclweb.org/anthology/events/acl-2018/\")"
   ]
  },
  {
   "cell_type": "markdown",
   "metadata": {},
   "source": [
    "emnlp 19,18,17"
   ]
  },
  {
   "cell_type": "code",
   "execution_count": 36,
   "metadata": {},
   "outputs": [
    {
     "name": "stdout",
     "output_type": "stream",
     "text": [
      "title length :  1122\n",
      "abstraction length :  1103\n",
      "author length :  1102\n",
      "title length :  1103\n",
      "abstraction length :  1103\n"
     ]
    }
   ],
   "source": [
    "crawler(\"https://www.aclweb.org/anthology/events/emnlp-2019/\")"
   ]
  },
  {
   "cell_type": "code",
   "execution_count": 39,
   "metadata": {},
   "outputs": [
    {
     "name": "stdout",
     "output_type": "stream",
     "text": [
      "title length :  1024\n",
      "abstraction length :  1008\n",
      "author length :  1007\n",
      "title length :  1008\n",
      "abstraction length :  1008\n"
     ]
    }
   ],
   "source": [
    "crawler(\"https://www.aclweb.org/anthology/events/emnlp-2018/\")"
   ]
  },
  {
   "cell_type": "code",
   "execution_count": 42,
   "metadata": {},
   "outputs": [
    {
     "name": "stdout",
     "output_type": "stream",
     "text": [
      "title length :  353\n",
      "abstraction length :  351\n",
      "author length :  350\n",
      "title length :  351\n",
      "abstraction length :  351\n"
     ]
    }
   ],
   "source": [
    "crawler(\"https://www.aclweb.org/anthology/events/emnlp-2017/\")"
   ]
  },
  {
   "cell_type": "markdown",
   "metadata": {},
   "source": [
    "conll 19,18,17"
   ]
  },
  {
   "cell_type": "code",
   "execution_count": 45,
   "metadata": {},
   "outputs": [
    {
     "name": "stdout",
     "output_type": "stream",
     "text": [
      "title length :  115\n",
      "abstraction length :  113\n",
      "author length :  113\n",
      "title length :  113\n",
      "abstraction length :  113\n"
     ]
    }
   ],
   "source": [
    "crawler(\"https://www.aclweb.org/anthology/events/conll-2019/\")"
   ]
  },
  {
   "cell_type": "code",
   "execution_count": 51,
   "metadata": {},
   "outputs": [
    {
     "name": "stdout",
     "output_type": "stream",
     "text": [
      "title length :  101\n",
      "abstraction length :  82\n",
      "author length :  98\n",
      "title length :  98\n",
      "abstraction length :  82\n"
     ]
    }
   ],
   "source": [
    "crawler(\"https://www.aclweb.org/anthology/events/conll-2018/\") #마지막 덩어리 abs없음"
   ]
  },
  {
   "cell_type": "code",
   "execution_count": 54,
   "metadata": {},
   "outputs": [
    {
     "name": "stdout",
     "output_type": "stream",
     "text": [
      "title length :  89\n",
      "abstraction length :  74\n",
      "author length :  86\n",
      "title length :  86\n",
      "abstraction length :  74\n"
     ]
    }
   ],
   "source": [
    "crawler(\"https://www.aclweb.org/anthology/events/conll-2017/\") #중간 덩어리 abs 없음"
   ]
  },
  {
   "cell_type": "markdown",
   "metadata": {},
   "source": [
    "naacl 19,18,16"
   ]
  },
  {
   "cell_type": "code",
   "execution_count": 57,
   "metadata": {},
   "outputs": [
    {
     "name": "stdout",
     "output_type": "stream",
     "text": [
      "title length :  752\n",
      "abstraction length :  729\n",
      "author length :  729\n",
      "title length :  729\n",
      "abstraction length :  729\n"
     ]
    }
   ],
   "source": [
    "crawler(\"https://www.aclweb.org/anthology/events/naacl-2019/\")"
   ]
  },
  {
   "cell_type": "code",
   "execution_count": 60,
   "metadata": {},
   "outputs": [
    {
     "name": "stdout",
     "output_type": "stream",
     "text": [
      "title length :  588\n",
      "abstraction length :  569\n",
      "author length :  569\n",
      "title length :  569\n",
      "abstraction length :  569\n"
     ]
    }
   ],
   "source": [
    "crawler(\"https://www.aclweb.org/anthology/events/naacl-2018/\")"
   ]
  },
  {
   "cell_type": "code",
   "execution_count": null,
   "metadata": {},
   "outputs": [],
   "source": [
    "crawler(\"https://www.aclweb.org/anthology/events/naacl-2016/\") #abs 없음"
   ]
  },
  {
   "cell_type": "markdown",
   "metadata": {},
   "source": [
    "eacl 17,14,12"
   ]
  },
  {
   "cell_type": "code",
   "execution_count": 63,
   "metadata": {
    "scrolled": true
   },
   "outputs": [
    {
     "name": "stdout",
     "output_type": "stream",
     "text": [
      "title length :  290\n",
      "abstraction length :  286\n",
      "author length :  285\n",
      "title length :  286\n",
      "abstraction length :  286\n"
     ]
    }
   ],
   "source": [
    "crawler(\"https://www.aclweb.org/anthology/events/eacl-2017/\")"
   ]
  },
  {
   "cell_type": "code",
   "execution_count": null,
   "metadata": {},
   "outputs": [],
   "source": [
    "crawler(\"https://www.aclweb.org/anthology/events/eacl-2014/\") #abs 없음"
   ]
  },
  {
   "cell_type": "code",
   "execution_count": null,
   "metadata": {},
   "outputs": [],
   "source": [
    "crawler(\"https://www.aclweb.org/anthology/events/eacl-2012/\") #abs 없음"
   ]
  },
  {
   "cell_type": "markdown",
   "metadata": {},
   "source": [
    "acl-2019-------------------\n",
    "title length :  1449 -> 1423 (-26)\n",
    "author length :  0\n",
    "abstraction length :  1422 \n",
    "-> 문자열 직접 적어서 지움\n",
    "\n",
    "conll-2018/-------------------\n",
    "title length :  98\n",
    "author length :  0\n",
    "abstraction length :  82\n",
    "\n",
    "conll-2017/-------------------\n",
    "title length :  86\n",
    "author length :  0\n",
    "abstraction length :  74\n",
    "\n",
    "naacl-2016/-------------------\n",
    "abstraction length :  0\n",
    "\n",
    "eacl-2014/---------------------\n",
    "abstraction length :  0\n",
    "\n",
    "eacl-2012/-------------------\n",
    "abstraction length :  0"
   ]
  },
  {
   "cell_type": "code",
   "execution_count": null,
   "metadata": {},
   "outputs": [],
   "source": []
  }
 ],
 "metadata": {
  "kernelspec": {
   "display_name": "Python 3",
   "language": "python",
   "name": "python3"
  },
  "language_info": {
   "codemirror_mode": {
    "name": "ipython",
    "version": 3
   },
   "file_extension": ".py",
   "mimetype": "text/x-python",
   "name": "python",
   "nbconvert_exporter": "python",
   "pygments_lexer": "ipython3",
   "version": "3.7.6"
  }
 },
 "nbformat": 4,
 "nbformat_minor": 4
}

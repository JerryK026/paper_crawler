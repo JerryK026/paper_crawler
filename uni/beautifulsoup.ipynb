{
 "cells": [
  {
   "cell_type": "code",
   "execution_count": 3,
   "metadata": {},
   "outputs": [
    {
     "name": "stdout",
     "output_type": "stream",
     "text": [
      "Requirement already satisfied: requests in c:\\users\\a0102\\anaconda3\\lib\\site-packages (2.22.0)\n",
      "Requirement already satisfied: chardet<3.1.0,>=3.0.2 in c:\\users\\a0102\\anaconda3\\lib\\site-packages (from requests) (3.0.4)\n",
      "Requirement already satisfied: urllib3!=1.25.0,!=1.25.1,<1.26,>=1.21.1 in c:\\users\\a0102\\anaconda3\\lib\\site-packages (from requests) (1.25.8)\n",
      "Requirement already satisfied: certifi>=2017.4.17 in c:\\users\\a0102\\anaconda3\\lib\\site-packages (from requests) (2019.11.28)\n",
      "Requirement already satisfied: idna<2.9,>=2.5 in c:\\users\\a0102\\anaconda3\\lib\\site-packages (from requests) (2.8)\n",
      "Note: you may need to restart the kernel to use updated packages.\n"
     ]
    }
   ],
   "source": [
    "pip install requests"
   ]
  },
  {
   "cell_type": "code",
   "execution_count": 54,
   "metadata": {},
   "outputs": [],
   "source": [
    "import requests\n",
    "from bs4 import BeautifulSoup\n",
    "from openpyxl import Workbook\n",
    "test=Workbook()\n",
    "test_sheet = test.active\n",
    "test_sheet.append(['index','sub_seq','conference','year','title','author','abs'])"
   ]
  },
  {
   "cell_type": "code",
   "execution_count": 101,
   "metadata": {
    "scrolled": false
   },
   "outputs": [],
   "source": [
    "def crawler(url):\n",
    "    \n",
    "    response = requests.get(url)\n",
    "    soup = BeautifulSoup(response.content, \"html.parser\")\n",
    "    \n",
    "    my_titles=soup.select(\n",
    "        'p>span:nth-child(2)>strong>a'\n",
    "    )\n",
    "\n",
    "    tit=[]\n",
    "    for title in my_titles:\n",
    "        tit.append(title.text)\n",
    "    #print('tit',tit)\n",
    "\n",
    "    abs = []\n",
    "    abstracts=soup.findAll(\"div\",{'class':'card-body p-3 small'})\n",
    "    for abstract in abstracts:\n",
    "        abs.append(abstract.text)\n",
    "    #print('abs',abs)\n",
    "\n",
    "    aut=[]\n",
    "    temp = []\n",
    "\n",
    "    div_1 = soup.select('#main > div')\n",
    "    p = ''\n",
    "    leng = len(div_1)\n",
    "    leng2 = 0\n",
    "\n",
    "    for i in range(leng):\n",
    "        if(i == 0):\n",
    "            continue\n",
    "        p = div_1[i].select(\".d-block\")\n",
    "        leng2 = len(p)\n",
    "        for j in range(leng2):\n",
    "            if(j == 0 or j == 1 or j == 2):\n",
    "                continue\n",
    "            for k in p[j].select(\".d-block > a\"):\n",
    "                tmp = k.get_text()\n",
    "                if(tmp == 'pdf\\n' or tmp == 'bib\\n' or tmp == 'abs' or tmp =='' or tmp == 'bib'):\n",
    "                    continue\n",
    "                temp.append(temp)\n",
    "                #print(k.get_text())\n",
    "            #print(\"--------------------------------\")\n",
    "            if(len(temp) != 0):\n",
    "                aut.append(temp)\n",
    "            \n",
    "            temp = []\n",
    "        #print(\"=====================================\")\n",
    "\n",
    "    # my_authors = soup.select(\n",
    "    #     'p > span:nth-child(2) > a'\n",
    "    # )\n",
    "\n",
    "    # for author in my_authors:\n",
    "    #     aut.append(author.text)\n",
    "    # print(aut)\n",
    "\n",
    "    print(\"title length : \", len(tit))\n",
    "    print(\"author length : \", len(aut))\n",
    "    print(\"abstraction length : \", len(abs))\n",
    "\n",
    "    s=[]\n",
    "    num=len(tit)-len(abs)\n",
    "    ii=0\n",
    "    \n",
    "    while True:\n",
    "        try:\n",
    "            s.append(soup.select('.card-body .list-pl-responsive li .align-middle')[ii].get_text())\n",
    "            ii+=1\n",
    "        except:\n",
    "            break\n",
    "\n",
    "    num=len(s)\n",
    "    \n",
    "    new_s=[]\n",
    "    for i in range(num):\n",
    "        if i%2==0:\n",
    "            new_s.append(s[i])\n",
    "\n",
    "\n",
    "    #for i in range(num):\n",
    "    #    s.append(soup.select('.card-body .align-middle')[2*i].get_text())\n",
    "\n",
    "    \n",
    "    for t in tit:\n",
    "        if t=='Proceedings of the 18th BioNLP Workshop and Shared Task':\n",
    "            tit.remove(t)\n",
    "    #acl-2019가 위 항목을 아래의 for문 속 if t==ss에서 못 걸러내므로 따로 remove 해줌\n",
    "            \n",
    "    for t in tit:\n",
    "        for ss in new_s:\n",
    "            if t==ss:\n",
    "                tit.remove(t)\n",
    "    \n",
    "    \n",
    "    for i in range(len(abs)):\n",
    "        test_sheet.cell(i+1,3,'eacl')\n",
    "        # 7319부터 시작\n",
    "    test.save('C:/Users/SeoKyung/Desktop/test.xlsx')\n",
    "\n",
    "    \n",
    "    for i in range(len(abs)):\n",
    "        test_sheet.cell(i+1,4,2017)\n",
    "    test.save('C:/Users/SeoKyung/Desktop/test.xlsx')\n",
    "    \n",
    "    for i in range(len(abs)):\n",
    "        test_sheet.cell(i+1,5,tit[i])\n",
    "    test.save('C:/Users/SeoKyung/Desktop/test.xlsx')\n",
    "\n",
    "    \n",
    "    for i in range(len(abs)):\n",
    "        test_sheet.cell(i+1,7,abs[i])\n",
    "    test.save('C:/Users/SeoKyung/Desktop/test.xlsx')\n",
    "\n",
    "    inputString = ''\n",
    "    \n",
    "    for i in range(len(abs)):\n",
    "        inputString = ','.join(aut[i])\n",
    "        test_sheet.cell(i+1,6,inputString)\n",
    "        inputString = ''\n",
    "    test.save('C:/Users/SeoKyung/Desktop/test.xlsx')\n",
    "    \n",
    "    #conll 2019 까지 저장한 상태임.\n",
    "    #함수 부를 때 마다 test_sheet.cell(i+5753,3,'conll') 에서 i+num 에 num을 엑셀에서 저장 시작할 행 값으로, conference 값, 년도 값을 고쳐준 후 RUN.\n",
    "\n",
    "    \n",
    "    \n",
    "    print(\"title length : \", len(tit))\n",
    "    print(\"author length : \", len(aut))\n",
    "    print(\"abstraction length : \", len(abs))\n",
    "\n"
   ]
  },
  {
   "cell_type": "code",
   "execution_count": 96,
   "metadata": {},
   "outputs": [],
   "source": [
    "def add_aut(url):\n",
    "    response = requests.get(url)\n",
    "    soup = BeautifulSoup(response.content, \"html.parser\")\n",
    "    \n",
    "    aut=[]\n",
    "    temp = []\n",
    "\n",
    "    div_1 = soup.select('#main > div')\n",
    "    p = ''\n",
    "    leng = len(div_1)\n",
    "    leng2 = 0\n",
    "\n",
    "    for i in range(leng):\n",
    "        if(i == 0):\n",
    "            continue\n",
    "        p = div_1[i].select(\".d-block\")\n",
    "        leng2 = len(p)\n",
    "        for j in range(leng2):\n",
    "            if(j == 0 or j == 1 or j == 2):\n",
    "                continue\n",
    "            for k in p[j].select(\".d-block > a\"):\n",
    "                tmp = k.get_text()\n",
    "                if(tmp == 'pdf\\n' or tmp == 'bib\\n' or tmp == 'abs' or tmp =='' or tmp == 'bib'):\n",
    "                    continue\n",
    "                temp.append(tmp)\n",
    "            if(len(temp) != 0):\n",
    "                aut.append(temp)\n",
    "            temp = []\n",
    "\n",
    "#     print(len(aut))\n",
    "\n",
    "    inputString = ''\n",
    "    \n",
    "    for i in range(len(aut)):\n",
    "        inputString = ','.join(aut[i])\n",
    "        test_sheet.cell(i+1,6,inputString)\n",
    "        inputString = ''\n",
    "    test.save('C:/Users/SeoKyung/Desktop/test.xlsx')"
   ]
  },
  {
   "cell_type": "markdown",
   "metadata": {},
   "source": [
    "acl 2020,2018,2019"
   ]
  },
  {
   "cell_type": "code",
   "execution_count": 97,
   "metadata": {},
   "outputs": [],
   "source": [
    "add_aut(\"https://www.aclweb.org/anthology/events/acl-2020/\")"
   ]
  },
  {
   "cell_type": "code",
   "execution_count": 58,
   "metadata": {},
   "outputs": [],
   "source": [
    "# add_aut(\"https://www.aclweb.org/anthology/events/acl-2019/\")"
   ]
  },
  {
   "cell_type": "code",
   "execution_count": 102,
   "metadata": {
    "scrolled": true
   },
   "outputs": [
    {
     "name": "stdout",
     "output_type": "stream",
     "text": [
      "title length :  1235\n",
      "author length :  1213\n",
      "abstraction length :  1213\n"
     ]
    },
    {
     "ename": "TypeError",
     "evalue": "sequence item 0: expected str instance, list found",
     "output_type": "error",
     "traceback": [
      "\u001b[1;31m---------------------------------------------------------------------------\u001b[0m",
      "\u001b[1;31mTypeError\u001b[0m                                 Traceback (most recent call last)",
      "\u001b[1;32m<ipython-input-102-ca6f687b6ce2>\u001b[0m in \u001b[0;36m<module>\u001b[1;34m\u001b[0m\n\u001b[1;32m----> 1\u001b[1;33m \u001b[0mcrawler\u001b[0m\u001b[1;33m(\u001b[0m\u001b[1;34m\"https://www.aclweb.org/anthology/events/acl-2020/\"\u001b[0m\u001b[1;33m)\u001b[0m\u001b[1;33m\u001b[0m\u001b[1;33m\u001b[0m\u001b[0m\n\u001b[0m",
      "\u001b[1;32m<ipython-input-101-2f0859799939>\u001b[0m in \u001b[0;36mcrawler\u001b[1;34m(url)\u001b[0m\n\u001b[0;32m    116\u001b[0m \u001b[1;33m\u001b[0m\u001b[0m\n\u001b[0;32m    117\u001b[0m     \u001b[1;32mfor\u001b[0m \u001b[0mi\u001b[0m \u001b[1;32min\u001b[0m \u001b[0mrange\u001b[0m\u001b[1;33m(\u001b[0m\u001b[0mlen\u001b[0m\u001b[1;33m(\u001b[0m\u001b[0mabs\u001b[0m\u001b[1;33m)\u001b[0m\u001b[1;33m)\u001b[0m\u001b[1;33m:\u001b[0m\u001b[1;33m\u001b[0m\u001b[1;33m\u001b[0m\u001b[0m\n\u001b[1;32m--> 118\u001b[1;33m         \u001b[0minputString\u001b[0m \u001b[1;33m=\u001b[0m \u001b[1;34m','\u001b[0m\u001b[1;33m.\u001b[0m\u001b[0mjoin\u001b[0m\u001b[1;33m(\u001b[0m\u001b[0maut\u001b[0m\u001b[1;33m[\u001b[0m\u001b[0mi\u001b[0m\u001b[1;33m]\u001b[0m\u001b[1;33m)\u001b[0m\u001b[1;33m\u001b[0m\u001b[1;33m\u001b[0m\u001b[0m\n\u001b[0m\u001b[0;32m    119\u001b[0m         \u001b[0mtest_sheet\u001b[0m\u001b[1;33m.\u001b[0m\u001b[0mcell\u001b[0m\u001b[1;33m(\u001b[0m\u001b[0mi\u001b[0m\u001b[1;33m+\u001b[0m\u001b[1;36m1\u001b[0m\u001b[1;33m,\u001b[0m\u001b[1;36m6\u001b[0m\u001b[1;33m,\u001b[0m\u001b[0minputString\u001b[0m\u001b[1;33m)\u001b[0m\u001b[1;33m\u001b[0m\u001b[1;33m\u001b[0m\u001b[0m\n\u001b[0;32m    120\u001b[0m         \u001b[0minputString\u001b[0m \u001b[1;33m=\u001b[0m \u001b[1;34m''\u001b[0m\u001b[1;33m\u001b[0m\u001b[1;33m\u001b[0m\u001b[0m\n",
      "\u001b[1;31mTypeError\u001b[0m: sequence item 0: expected str instance, list found"
     ]
    }
   ],
   "source": [
    "crawler(\"https://www.aclweb.org/anthology/events/acl-2020/\")"
   ]
  },
  {
   "cell_type": "code",
   "execution_count": null,
   "metadata": {},
   "outputs": [],
   "source": [
    "crawler(\"https://www.aclweb.org/anthology/events/acl-2019/\")"
   ]
  },
  {
   "cell_type": "code",
   "execution_count": null,
   "metadata": {
    "scrolled": true
   },
   "outputs": [],
   "source": [
    "crawler(\"https://www.aclweb.org/anthology/events/acl-2018/\")"
   ]
  },
  {
   "cell_type": "markdown",
   "metadata": {},
   "source": [
    "emnlp 19,18,17"
   ]
  },
  {
   "cell_type": "code",
   "execution_count": null,
   "metadata": {},
   "outputs": [],
   "source": [
    "crawler(\"https://www.aclweb.org/anthology/events/emnlp-2019/\")"
   ]
  },
  {
   "cell_type": "code",
   "execution_count": null,
   "metadata": {},
   "outputs": [],
   "source": [
    "crawler(\"https://www.aclweb.org/anthology/events/emnlp-2018/\")"
   ]
  },
  {
   "cell_type": "code",
   "execution_count": null,
   "metadata": {},
   "outputs": [],
   "source": [
    "crawler(\"https://www.aclweb.org/anthology/events/emnlp-2017/\")"
   ]
  },
  {
   "cell_type": "markdown",
   "metadata": {},
   "source": [
    "conll 19,18,17"
   ]
  },
  {
   "cell_type": "code",
   "execution_count": null,
   "metadata": {},
   "outputs": [],
   "source": [
    "crawler(\"https://www.aclweb.org/anthology/events/conll-2019/\")"
   ]
  },
  {
   "cell_type": "code",
   "execution_count": null,
   "metadata": {},
   "outputs": [],
   "source": [
    "crawler(\"https://www.aclweb.org/anthology/events/conll-2018/\")"
   ]
  },
  {
   "cell_type": "code",
   "execution_count": null,
   "metadata": {},
   "outputs": [],
   "source": [
    "crawler(\"https://www.aclweb.org/anthology/events/conll-2017/\")"
   ]
  },
  {
   "cell_type": "markdown",
   "metadata": {},
   "source": [
    "naacl 19,18,16"
   ]
  },
  {
   "cell_type": "code",
   "execution_count": null,
   "metadata": {},
   "outputs": [],
   "source": [
    "crawler(\"https://www.aclweb.org/anthology/events/naacl-2019/\")"
   ]
  },
  {
   "cell_type": "code",
   "execution_count": null,
   "metadata": {},
   "outputs": [],
   "source": [
    "crawler(\"https://www.aclweb.org/anthology/events/naacl-2018/\")"
   ]
  },
  {
   "cell_type": "code",
   "execution_count": null,
   "metadata": {},
   "outputs": [],
   "source": [
    "crawler(\"https://www.aclweb.org/anthology/events/naacl-2016/\")"
   ]
  },
  {
   "cell_type": "markdown",
   "metadata": {},
   "source": [
    "eacl 17,14,12"
   ]
  },
  {
   "cell_type": "code",
   "execution_count": null,
   "metadata": {
    "scrolled": true
   },
   "outputs": [],
   "source": [
    "crawler(\"https://www.aclweb.org/anthology/events/eacl-2017/\")"
   ]
  },
  {
   "cell_type": "code",
   "execution_count": null,
   "metadata": {},
   "outputs": [],
   "source": [
    "crawler(\"https://www.aclweb.org/anthology/events/eacl-2014/\")"
   ]
  },
  {
   "cell_type": "code",
   "execution_count": null,
   "metadata": {},
   "outputs": [],
   "source": [
    "crawler(\"https://www.aclweb.org/anthology/events/eacl-2012/\")"
   ]
  },
  {
   "cell_type": "markdown",
   "metadata": {},
   "source": [
    "acl-2019-------------------\n",
    "title length :  1449 -> 1423 (-26)\n",
    "author length :  0\n",
    "abstraction length :  1422 \n",
    "-> 문자열 직접 적어서 지움\n",
    "\n",
    "conll-2018/-------------------\n",
    "title length :  98\n",
    "author length :  0\n",
    "abstraction length :  82\n",
    "\n",
    "conll-2017/-------------------\n",
    "title length :  86\n",
    "author length :  0\n",
    "abstraction length :  74\n",
    "\n",
    "naacl-2016/-------------------\n",
    "abstraction length :  0\n",
    "\n",
    "eacl-2014/---------------------\n",
    "abstraction length :  0\n",
    "\n",
    "eacl-2012/-------------------\n",
    "abstraction length :  0"
   ]
  },
  {
   "cell_type": "markdown",
   "metadata": {},
   "source": [
    "엑셀에 conll2019 까지 저장함"
   ]
  },
  {
   "cell_type": "code",
   "execution_count": null,
   "metadata": {},
   "outputs": [],
   "source": []
  }
 ],
 "metadata": {
  "kernelspec": {
   "display_name": "Python 3",
   "language": "python",
   "name": "python3"
  },
  "language_info": {
   "codemirror_mode": {
    "name": "ipython",
    "version": 3
   },
   "file_extension": ".py",
   "mimetype": "text/x-python",
   "name": "python",
   "nbconvert_exporter": "python",
   "pygments_lexer": "ipython3",
   "version": "3.7.7"
  }
 },
 "nbformat": 4,
 "nbformat_minor": 4
}
